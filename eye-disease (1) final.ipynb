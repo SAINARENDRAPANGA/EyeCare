{
 "cells": [
  {
   "cell_type": "code",
   "execution_count": 1,
   "metadata": {
    "_cell_guid": "b1076dfc-b9ad-4769-8c92-a6c4dae69d19",
    "_uuid": "8f2839f25d086af736a60e9eeb907d3b93b6e0e5",
    "execution": {
     "iopub.execute_input": "2024-11-20T13:51:02.397832Z",
     "iopub.status.busy": "2024-11-20T13:51:02.397457Z",
     "iopub.status.idle": "2024-11-20T13:51:14.408768Z",
     "shell.execute_reply": "2024-11-20T13:51:14.408060Z",
     "shell.execute_reply.started": "2024-11-20T13:51:02.397802Z"
    },
    "trusted": true
   },
   "outputs": [],
   "source": [
    "import numpy as np\n",
    "import pandas as pd\n",
    "import os\n",
    "from tensorflow.keras.preprocessing.image import ImageDataGenerator\n",
    "from tensorflow.keras.applications import ResNet50\n",
    "from tensorflow.keras.layers import Dense, GlobalAveragePooling2D, Dropout\n",
    "from tensorflow.keras.models import Model\n",
    "from tensorflow.keras.optimizers import Adam\n",
    "from tensorflow.keras.callbacks import ModelCheckpoint, EarlyStopping\n",
    "from sklearn.model_selection import train_test_split\n",
    "from sklearn.preprocessing import MultiLabelBinarizer\n",
    "from tensorflow.keras.preprocessing import image\n",
    "import matplotlib.pyplot as plt\n"
   ]
  },
  {
   "cell_type": "code",
   "execution_count": 2,
   "metadata": {
    "execution": {
     "iopub.execute_input": "2024-11-20T13:51:14.410690Z",
     "iopub.status.busy": "2024-11-20T13:51:14.410225Z",
     "iopub.status.idle": "2024-11-20T13:51:14.586241Z",
     "shell.execute_reply": "2024-11-20T13:51:14.585379Z",
     "shell.execute_reply.started": "2024-11-20T13:51:14.410663Z"
    },
    "trusted": true
   },
   "outputs": [],
   "source": [
    "import os\n",
    "import numpy as np\n",
    "import matplotlib.pyplot as plt\n",
    "from tensorflow.keras.preprocessing.image import ImageDataGenerator\n",
    "from tensorflow.keras.applications import ResNet50\n",
    "from tensorflow.keras.models import Sequential\n",
    "from tensorflow.keras.layers import Dense, Flatten, GlobalAveragePooling2D\n",
    "from tensorflow.keras.optimizers import Adam\n",
    "from tensorflow.keras.callbacks import EarlyStopping\n",
    "from sklearn.metrics import classification_report, confusion_matrix\n",
    "from tensorflow.keras.preprocessing import image\n",
    "from tensorflow.keras.models import load_model\n",
    "import cv2\n"
   ]
  },
  {
   "cell_type": "code",
   "execution_count": null,
   "metadata": {
    "execution": {
     "iopub.execute_input": "2024-11-20T16:22:54.681270Z",
     "iopub.status.busy": "2024-11-20T16:22:54.680923Z",
     "iopub.status.idle": "2024-11-20T16:22:54.687684Z",
     "shell.execute_reply": "2024-11-20T16:22:54.686821Z",
     "shell.execute_reply.started": "2024-11-20T16:22:54.681240Z"
    },
    "trusted": true
   },
   "outputs": [],
   "source": [
    "train_dir = '/kaggle/input/eye-train-data/dataset'\n",
    "test_dir = '/kaggle/input/testdata/dataset'\n",
    "img_size = 224\n",
    "batch_size = 32\n",
    "num_classes = len(os.listdir(train_dir))  \n"
   ]
  },
  {
   "cell_type": "code",
   "execution_count": null,
   "metadata": {
    "execution": {
     "iopub.execute_input": "2024-11-20T16:22:59.234201Z",
     "iopub.status.busy": "2024-11-20T16:22:59.233612Z",
     "iopub.status.idle": "2024-11-20T16:23:22.742525Z",
     "shell.execute_reply": "2024-11-20T16:23:22.741820Z",
     "shell.execute_reply.started": "2024-11-20T16:22:59.234171Z"
    },
    "trusted": true
   },
   "outputs": [
    {
     "name": "stdout",
     "output_type": "stream",
     "text": [
      "Found 9712 images belonging to 14 classes.\n",
      "Found 2422 images belonging to 14 classes.\n",
      "Found 18204 images belonging to 14 classes.\n"
     ]
    }
   ],
   "source": [
    "# Data Augmentation and Preprocessing for training and validation\n",
    "train_datagen = ImageDataGenerator(\n",
    "    rescale=1./255,\n",
    "    rotation_range=20,\n",
    "    width_shift_range=0.2,\n",
    "    height_shift_range=0.2,\n",
    "    shear_range=0.2,\n",
    "    zoom_range=0.2,\n",
    "    horizontal_flip=True,\n",
    "    fill_mode='nearest',\n",
    "    validation_split=0.2  \n",
    ")\n",
    "\n",
    "# Training generator\n",
    "train_generator = train_datagen.flow_from_directory(\n",
    "    train_dir,\n",
    "    target_size=(img_size, img_size),\n",
    "    batch_size=batch_size,\n",
    "    class_mode='categorical',\n",
    "    subset='training'\n",
    ")\n",
    "\n",
    "# Validation generator\n",
    "validation_generator = train_datagen.flow_from_directory(\n",
    "    train_dir,\n",
    "    target_size=(img_size, img_size),\n",
    "    batch_size=batch_size,\n",
    "    class_mode='categorical',\n",
    "    subset='validation'\n",
    ")\n",
    "\n",
    "# Test generator \n",
    "test_datagen = ImageDataGenerator(rescale=1./255)\n",
    "test_generator = test_datagen.flow_from_directory(\n",
    "    test_dir,\n",
    "    target_size=(img_size, img_size),\n",
    "    batch_size=1,\n",
    "    class_mode='categorical',\n",
    "    shuffle=False\n",
    ")\n"
   ]
  },
  {
   "cell_type": "code",
   "execution_count": 5,
   "metadata": {
    "execution": {
     "iopub.execute_input": "2024-11-20T13:51:35.862723Z",
     "iopub.status.busy": "2024-11-20T13:51:35.862467Z",
     "iopub.status.idle": "2024-11-20T13:51:35.867262Z",
     "shell.execute_reply": "2024-11-20T13:51:35.866217Z",
     "shell.execute_reply.started": "2024-11-20T13:51:35.862699Z"
    },
    "trusted": true
   },
   "outputs": [],
   "source": [
    "from tensorflow.keras.applications import MobileNetV2\n",
    "from tensorflow.keras.layers import Dense, GlobalAveragePooling2D\n",
    "from tensorflow.keras.models import Sequential\n",
    "from tensorflow.keras.optimizers import Adam\n",
    "from tensorflow.keras.preprocessing.image import ImageDataGenerator\n",
    "from tensorflow.keras.callbacks import EarlyStopping\n",
    "import os\n"
   ]
  },
  {
   "cell_type": "code",
   "execution_count": null,
   "metadata": {
    "execution": {
     "iopub.execute_input": "2024-11-20T13:51:35.868422Z",
     "iopub.status.busy": "2024-11-20T13:51:35.868157Z",
     "iopub.status.idle": "2024-11-20T13:51:38.537829Z",
     "shell.execute_reply": "2024-11-20T13:51:38.537144Z",
     "shell.execute_reply.started": "2024-11-20T13:51:35.868398Z"
    },
    "trusted": true
   },
   "outputs": [
    {
     "name": "stdout",
     "output_type": "stream",
     "text": [
      "Downloading data from https://storage.googleapis.com/tensorflow/keras-applications/mobilenet_v2/mobilenet_v2_weights_tf_dim_ordering_tf_kernels_1.0_224_no_top.h5\n",
      "\u001b[1m9406464/9406464\u001b[0m \u001b[32m━━━━━━━━━━━━━━━━━━━━\u001b[0m\u001b[37m\u001b[0m \u001b[1m1s\u001b[0m 0us/step\n"
     ]
    }
   ],
   "source": [
    "# MobileNetV2 \n",
    "mobilenet = MobileNetV2(weights='imagenet', include_top=False, input_shape=(img_size, img_size, 3))\n",
    "\n",
    "for layer in mobilenet.layers:\n",
    "    layer.trainable = False\n",
    "\n",
    "# Build model\n",
    "model = Sequential([\n",
    "    mobilenet,\n",
    "    GlobalAveragePooling2D(),\n",
    "    Dense(1024, activation='relu'),\n",
    "    Dense(num_classes, activation='softmax')\n",
    "])\n",
    "\n",
    "# Compile the model\n",
    "model.compile(optimizer=Adam(learning_rate=0.0001),\n",
    "              loss='categorical_crossentropy',\n",
    "              metrics=['accuracy'])"
   ]
  },
  {
   "cell_type": "code",
   "execution_count": null,
   "metadata": {
    "execution": {
     "iopub.execute_input": "2024-11-20T13:51:38.539183Z",
     "iopub.status.busy": "2024-11-20T13:51:38.538859Z",
     "iopub.status.idle": "2024-11-20T15:15:38.508002Z",
     "shell.execute_reply": "2024-11-20T15:15:38.507008Z",
     "shell.execute_reply.started": "2024-11-20T13:51:38.539150Z"
    },
    "trusted": true
   },
   "outputs": [
    {
     "name": "stdout",
     "output_type": "stream",
     "text": [
      "Epoch 1/20\n"
     ]
    },
    {
     "name": "stderr",
     "output_type": "stream",
     "text": [
      "/opt/conda/lib/python3.10/site-packages/keras/src/trainers/data_adapters/py_dataset_adapter.py:121: UserWarning: Your `PyDataset` class should call `super().__init__(**kwargs)` in its constructor. `**kwargs` can include `workers`, `use_multiprocessing`, `max_queue_size`. Do not pass these arguments to `fit()`, as they will be ignored.\n",
      "  self._warn_if_super_not_called()\n",
      "WARNING: All log messages before absl::InitializeLog() is called are written to STDERR\n",
      "I0000 00:00:1732110711.748599     118 service.cc:145] XLA service 0x7953d00020d0 initialized for platform CUDA (this does not guarantee that XLA will be used). Devices:\n",
      "I0000 00:00:1732110711.748660     118 service.cc:153]   StreamExecutor device (0): Tesla P100-PCIE-16GB, Compute Capability 6.0\n"
     ]
    },
    {
     "name": "stdout",
     "output_type": "stream",
     "text": [
      "\u001b[1m  1/304\u001b[0m \u001b[37m━━━━━━━━━━━━━━━━━━━━\u001b[0m \u001b[1m1:19:56\u001b[0m 16s/step - accuracy: 0.1562 - loss: 2.8861"
     ]
    },
    {
     "name": "stderr",
     "output_type": "stream",
     "text": [
      "I0000 00:00:1732110716.349234     118 device_compiler.h:188] Compiled cluster using XLA!  This line is logged at most once for the lifetime of the process.\n"
     ]
    },
    {
     "name": "stdout",
     "output_type": "stream",
     "text": [
      "\u001b[1m304/304\u001b[0m \u001b[32m━━━━━━━━━━━━━━━━━━━━\u001b[0m\u001b[37m\u001b[0m \u001b[1m338s\u001b[0m 1s/step - accuracy: 0.5325 - loss: 1.4182 - val_accuracy: 0.6131 - val_loss: 1.0270\n",
      "Epoch 2/20\n",
      "\u001b[1m304/304\u001b[0m \u001b[32m━━━━━━━━━━━━━━━━━━━━\u001b[0m\u001b[37m\u001b[0m \u001b[1m238s\u001b[0m 768ms/step - accuracy: 0.7422 - loss: 0.7235 - val_accuracy: 0.6449 - val_loss: 0.9387\n",
      "Epoch 3/20\n",
      "\u001b[1m304/304\u001b[0m \u001b[32m━━━━━━━━━━━━━━━━━━━━\u001b[0m\u001b[37m\u001b[0m \u001b[1m245s\u001b[0m 792ms/step - accuracy: 0.7692 - loss: 0.6271 - val_accuracy: 0.6974 - val_loss: 0.8068\n",
      "Epoch 4/20\n",
      "\u001b[1m304/304\u001b[0m \u001b[32m━━━━━━━━━━━━━━━━━━━━\u001b[0m\u001b[37m\u001b[0m \u001b[1m242s\u001b[0m 779ms/step - accuracy: 0.7923 - loss: 0.5558 - val_accuracy: 0.6755 - val_loss: 0.8665\n",
      "Epoch 5/20\n",
      "\u001b[1m304/304\u001b[0m \u001b[32m━━━━━━━━━━━━━━━━━━━━\u001b[0m\u001b[37m\u001b[0m \u001b[1m244s\u001b[0m 788ms/step - accuracy: 0.8073 - loss: 0.5289 - val_accuracy: 0.6936 - val_loss: 0.7892\n",
      "Epoch 6/20\n",
      "\u001b[1m304/304\u001b[0m \u001b[32m━━━━━━━━━━━━━━━━━━━━\u001b[0m\u001b[37m\u001b[0m \u001b[1m248s\u001b[0m 800ms/step - accuracy: 0.8147 - loss: 0.5001 - val_accuracy: 0.6936 - val_loss: 0.8189\n",
      "Epoch 7/20\n",
      "\u001b[1m304/304\u001b[0m \u001b[32m━━━━━━━━━━━━━━━━━━━━\u001b[0m\u001b[37m\u001b[0m \u001b[1m251s\u001b[0m 811ms/step - accuracy: 0.8112 - loss: 0.4879 - val_accuracy: 0.6969 - val_loss: 0.8131\n",
      "Epoch 8/20\n",
      "\u001b[1m304/304\u001b[0m \u001b[32m━━━━━━━━━━━━━━━━━━━━\u001b[0m\u001b[37m\u001b[0m \u001b[1m247s\u001b[0m 796ms/step - accuracy: 0.8264 - loss: 0.4636 - val_accuracy: 0.6833 - val_loss: 0.8402\n",
      "Epoch 9/20\n",
      "\u001b[1m304/304\u001b[0m \u001b[32m━━━━━━━━━━━━━━━━━━━━\u001b[0m\u001b[37m\u001b[0m \u001b[1m249s\u001b[0m 803ms/step - accuracy: 0.8235 - loss: 0.4562 - val_accuracy: 0.7036 - val_loss: 0.7678\n",
      "Epoch 10/20\n",
      "\u001b[1m304/304\u001b[0m \u001b[32m━━━━━━━━━━━━━━━━━━━━\u001b[0m\u001b[37m\u001b[0m \u001b[1m247s\u001b[0m 797ms/step - accuracy: 0.8447 - loss: 0.4186 - val_accuracy: 0.6941 - val_loss: 0.8441\n",
      "Epoch 11/20\n",
      "\u001b[1m304/304\u001b[0m \u001b[32m━━━━━━━━━━━━━━━━━━━━\u001b[0m\u001b[37m\u001b[0m \u001b[1m257s\u001b[0m 831ms/step - accuracy: 0.8465 - loss: 0.4117 - val_accuracy: 0.7192 - val_loss: 0.7947\n",
      "Epoch 12/20\n",
      "\u001b[1m304/304\u001b[0m \u001b[32m━━━━━━━━━━━━━━━━━━━━\u001b[0m\u001b[37m\u001b[0m \u001b[1m246s\u001b[0m 792ms/step - accuracy: 0.8600 - loss: 0.3787 - val_accuracy: 0.7300 - val_loss: 0.7599\n",
      "Epoch 13/20\n",
      "\u001b[1m304/304\u001b[0m \u001b[32m━━━━━━━━━━━━━━━━━━━━\u001b[0m\u001b[37m\u001b[0m \u001b[1m248s\u001b[0m 803ms/step - accuracy: 0.8420 - loss: 0.3991 - val_accuracy: 0.7164 - val_loss: 0.8027\n",
      "Epoch 14/20\n",
      "\u001b[1m304/304\u001b[0m \u001b[32m━━━━━━━━━━━━━━━━━━━━\u001b[0m\u001b[37m\u001b[0m \u001b[1m247s\u001b[0m 797ms/step - accuracy: 0.8521 - loss: 0.3922 - val_accuracy: 0.7238 - val_loss: 0.7562\n",
      "Epoch 15/20\n",
      "\u001b[1m304/304\u001b[0m \u001b[32m━━━━━━━━━━━━━━━━━━━━\u001b[0m\u001b[37m\u001b[0m \u001b[1m248s\u001b[0m 802ms/step - accuracy: 0.8610 - loss: 0.3716 - val_accuracy: 0.7184 - val_loss: 0.7865\n",
      "Epoch 16/20\n",
      "\u001b[1m304/304\u001b[0m \u001b[32m━━━━━━━━━━━━━━━━━━━━\u001b[0m\u001b[37m\u001b[0m \u001b[1m247s\u001b[0m 796ms/step - accuracy: 0.8707 - loss: 0.3522 - val_accuracy: 0.7345 - val_loss: 0.7380\n",
      "Epoch 17/20\n",
      "\u001b[1m304/304\u001b[0m \u001b[32m━━━━━━━━━━━━━━━━━━━━\u001b[0m\u001b[37m\u001b[0m \u001b[1m253s\u001b[0m 814ms/step - accuracy: 0.8725 - loss: 0.3500 - val_accuracy: 0.7382 - val_loss: 0.7298\n",
      "Epoch 18/20\n",
      "\u001b[1m304/304\u001b[0m \u001b[32m━━━━━━━━━━━━━━━━━━━━\u001b[0m\u001b[37m\u001b[0m \u001b[1m247s\u001b[0m 795ms/step - accuracy: 0.8565 - loss: 0.3761 - val_accuracy: 0.7287 - val_loss: 0.7647\n",
      "Epoch 19/20\n",
      "\u001b[1m304/304\u001b[0m \u001b[32m━━━━━━━━━━━━━━━━━━━━\u001b[0m\u001b[37m\u001b[0m \u001b[1m246s\u001b[0m 796ms/step - accuracy: 0.8666 - loss: 0.3514 - val_accuracy: 0.7258 - val_loss: 0.7631\n",
      "Epoch 20/20\n",
      "\u001b[1m304/304\u001b[0m \u001b[32m━━━━━━━━━━━━━━━━━━━━\u001b[0m\u001b[37m\u001b[0m \u001b[1m249s\u001b[0m 804ms/step - accuracy: 0.8683 - loss: 0.3474 - val_accuracy: 0.7436 - val_loss: 0.7203\n"
     ]
    }
   ],
   "source": [
    "# Early stopping\n",
    "early_stopping = EarlyStopping(monitor='val_loss', patience=5, restore_best_weights=True)\n",
    "\n",
    "# Train the model\n",
    "history = model.fit(\n",
    "    train_generator,\n",
    "    validation_data=validation_generator,\n",
    "    epochs=20,\n",
    "    callbacks=[early_stopping]\n",
    ")"
   ]
  },
  {
   "cell_type": "code",
   "execution_count": null,
   "metadata": {
    "execution": {
     "iopub.execute_input": "2024-11-20T16:23:31.425899Z",
     "iopub.status.busy": "2024-11-20T16:23:31.425082Z",
     "iopub.status.idle": "2024-11-20T16:23:36.240779Z",
     "shell.execute_reply": "2024-11-20T16:23:36.240101Z",
     "shell.execute_reply.started": "2024-11-20T16:23:31.425864Z"
    },
    "trusted": true
   },
   "outputs": [
    {
     "name": "stdout",
     "output_type": "stream",
     "text": [
      "Found 18204 images belonging to 14 classes.\n"
     ]
    }
   ],
   "source": [
    "# Test generator\n",
    "test_datagen = ImageDataGenerator(rescale=1./255)\n",
    "\n",
    "test_generator = test_datagen.flow_from_directory(\n",
    "    test_dir,  \n",
    "    target_size=(img_size, img_size),\n",
    "    batch_size=1,  \n",
    "    class_mode='categorical',\n",
    "    shuffle=False  \n",
    ")\n"
   ]
  },
  {
   "cell_type": "code",
   "execution_count": 62,
   "metadata": {
    "execution": {
     "iopub.execute_input": "2024-11-20T16:23:40.168750Z",
     "iopub.status.busy": "2024-11-20T16:23:40.168150Z",
     "iopub.status.idle": "2024-11-20T16:23:40.173124Z",
     "shell.execute_reply": "2024-11-20T16:23:40.172268Z",
     "shell.execute_reply.started": "2024-11-20T16:23:40.168714Z"
    },
    "trusted": true
   },
   "outputs": [
    {
     "name": "stdout",
     "output_type": "stream",
     "text": [
      "Number of test samples: 18204\n"
     ]
    }
   ],
   "source": [
    "print(f\"Number of test samples: {test_generator.samples}\")"
   ]
  },
  {
   "cell_type": "code",
   "execution_count": 63,
   "metadata": {
    "execution": {
     "iopub.execute_input": "2024-11-20T16:23:43.378762Z",
     "iopub.status.busy": "2024-11-20T16:23:43.378429Z",
     "iopub.status.idle": "2024-11-20T16:31:32.196185Z",
     "shell.execute_reply": "2024-11-20T16:31:32.195249Z",
     "shell.execute_reply.started": "2024-11-20T16:23:43.378733Z"
    },
    "trusted": true
   },
   "outputs": [
    {
     "name": "stdout",
     "output_type": "stream",
     "text": [
      "\u001b[1m   34/18204\u001b[0m \u001b[37m━━━━━━━━━━━━━━━━━━━━\u001b[0m \u001b[1m1:26\u001b[0m 5ms/step - accuracy: 0.9947 - loss: 0.1165"
     ]
    },
    {
     "name": "stderr",
     "output_type": "stream",
     "text": [
      "/opt/conda/lib/python3.10/site-packages/keras/src/trainers/data_adapters/py_dataset_adapter.py:121: UserWarning: Your `PyDataset` class should call `super().__init__(**kwargs)` in its constructor. `**kwargs` can include `workers`, `use_multiprocessing`, `max_queue_size`. Do not pass these arguments to `fit()`, as they will be ignored.\n",
      "  self._warn_if_super_not_called()\n"
     ]
    },
    {
     "name": "stdout",
     "output_type": "stream",
     "text": [
      "\u001b[1m18204/18204\u001b[0m \u001b[32m━━━━━━━━━━━━━━━━━━━━\u001b[0m\u001b[37m\u001b[0m \u001b[1m248s\u001b[0m 14ms/step - accuracy: 0.8647 - loss: 0.3503\n",
      "Test Accuracy: 85.79%\n",
      "\u001b[1m18204/18204\u001b[0m \u001b[32m━━━━━━━━━━━━━━━━━━━━\u001b[0m\u001b[37m\u001b[0m \u001b[1m211s\u001b[0m 12ms/step\n",
      "                                  precision    recall  f1-score   support\n",
      "\n",
      "                    Bulging_Eyes       0.96      0.87      0.91       957\n",
      "Central_Serous_Chorioretinopathy       0.72      0.92      0.81      1158\n",
      "                    Crossed_Eyes       0.88      0.94      0.91      1392\n",
      "                      Disc_Edema       0.91      0.86      0.89      1072\n",
      "                    Macular_Scar       0.81      0.70      0.76      1937\n",
      "                          Myopia       0.88      0.90      0.89      2251\n",
      "                       Pterygium       1.00      1.00      1.00      1020\n",
      "              Retinal_Detachment       0.98      0.91      0.94      1158\n",
      "            Retinitis_Pigmentosa       0.96      0.90      0.93      1219\n",
      "                         Uveitis       0.97      0.96      0.97      1400\n",
      "                    cataract_eye       0.98      0.74      0.84      1038\n",
      "        diabetic_retinopathy_eye       0.89      0.77      0.83      1228\n",
      "                    glaucoma_eye       0.92      0.54      0.68      1000\n",
      "                      normal_eye       0.57      0.95      0.71      1374\n",
      "\n",
      "                        accuracy                           0.86     18204\n",
      "                       macro avg       0.89      0.86      0.86     18204\n",
      "                    weighted avg       0.88      0.86      0.86     18204\n",
      "\n"
     ]
    }
   ],
   "source": [
    "# Evaluate on the test set\n",
    "test_loss, test_acc = model.evaluate(test_generator)\n",
    "print(f'Test Accuracy: {test_acc * 100:.2f}%')\n",
    "\n",
    "# Classification Report\n",
    "y_true = test_generator.classes\n",
    "y_pred = np.argmax(model.predict(test_generator), axis=-1)\n",
    "print(classification_report(y_true, y_pred, target_names=list(test_generator.class_indices.keys())))\n"
   ]
  },
  {
   "cell_type": "code",
   "execution_count": 11,
   "metadata": {
    "execution": {
     "iopub.execute_input": "2024-11-20T15:15:44.327647Z",
     "iopub.status.busy": "2024-11-20T15:15:44.327372Z",
     "iopub.status.idle": "2024-11-20T15:15:45.435794Z",
     "shell.execute_reply": "2024-11-20T15:15:45.435082Z",
     "shell.execute_reply.started": "2024-11-20T15:15:44.327621Z"
    },
    "trusted": true
   },
   "outputs": [],
   "source": [
    "# Save the model\n",
    "model.save('/kaggle/working/eye_disease_detection_model.h5')\n",
    "\n",
    "# Load the saved model\n",
    "model = load_model('/kaggle/working/eye_disease_detection_model.h5')\n"
   ]
  },
  {
   "cell_type": "code",
   "execution_count": null,
   "metadata": {
    "execution": {
     "iopub.execute_input": "2024-11-20T15:24:20.286835Z",
     "iopub.status.busy": "2024-11-20T15:24:20.286133Z",
     "iopub.status.idle": "2024-11-20T15:24:20.355772Z",
     "shell.execute_reply": "2024-11-20T15:24:20.354937Z",
     "shell.execute_reply.started": "2024-11-20T15:24:20.286800Z"
    },
    "trusted": true
   },
   "outputs": [
    {
     "name": "stdout",
     "output_type": "stream",
     "text": [
      "\u001b[1m1/1\u001b[0m \u001b[32m━━━━━━━━━━━━━━━━━━━━\u001b[0m\u001b[37m\u001b[0m \u001b[1m0s\u001b[0m 19ms/step\n",
      "Predicted class: Crossed_Eyes\n"
     ]
    },
    {
     "data": {
      "text/plain": [
       "'Crossed_Eyes'"
      ]
     },
     "execution_count": 23,
     "metadata": {},
     "output_type": "execute_result"
    }
   ],
   "source": [
    "def predict_eye_disease(img_path):\n",
    "    img = image.load_img(img_path, target_size=(img_size, img_size))\n",
    "    img_array = image.img_to_array(img)\n",
    "    img_array = np.expand_dims(img_array, axis=0)\n",
    "    img_array /= 255.  \n",
    "    \n",
    "    prediction = model.predict(img_array)\n",
    "    predicted_class = np.argmax(prediction)\n",
    "    \n",
    "    class_labels = {v: k for k, v in train_generator.class_indices.items()}\n",
    "    print(f\"Predicted class: {class_labels[predicted_class]}\")\n",
    "    return class_labels[predicted_class]\n",
    "\n",
    "# Example prediction\n",
    "test_image_path = '/kaggle/input/eye-test-data/Test/Crossed_Eyes/Crossed_Eyes-1.jpeg'\n",
    "predict_eye_disease(test_image_path)\n"
   ]
  },
  {
   "cell_type": "code",
   "execution_count": null,
   "metadata": {
    "execution": {
     "iopub.execute_input": "2024-11-20T15:24:43.707325Z",
     "iopub.status.busy": "2024-11-20T15:24:43.706680Z",
     "iopub.status.idle": "2024-11-20T15:24:43.774540Z",
     "shell.execute_reply": "2024-11-20T15:24:43.773742Z",
     "shell.execute_reply.started": "2024-11-20T15:24:43.707292Z"
    },
    "trusted": true
   },
   "outputs": [
    {
     "name": "stdout",
     "output_type": "stream",
     "text": [
      "\u001b[1m1/1\u001b[0m \u001b[32m━━━━━━━━━━━━━━━━━━━━\u001b[0m\u001b[37m\u001b[0m \u001b[1m0s\u001b[0m 19ms/step\n",
      "Predicted class: Bulging_Eyes\n"
     ]
    },
    {
     "data": {
      "text/plain": [
       "'Bulging_Eyes'"
      ]
     },
     "execution_count": 24,
     "metadata": {},
     "output_type": "execute_result"
    }
   ],
   "source": [
    "def predict_eye_disease(img_path):\n",
    "    img = image.load_img(img_path, target_size=(img_size, img_size))\n",
    "    img_array = image.img_to_array(img)\n",
    "    img_array = np.expand_dims(img_array, axis=0)\n",
    "    img_array /= 255. \n",
    "    \n",
    "    prediction = model.predict(img_array)\n",
    "    predicted_class = np.argmax(prediction)\n",
    "    \n",
    "    class_labels = {v: k for k, v in train_generator.class_indices.items()}\n",
    "    print(f\"Predicted class: {class_labels[predicted_class]}\")\n",
    "    return class_labels[predicted_class]\n",
    "\n",
    "# Example prediction\n",
    "test_image_path = '/kaggle/input/eye-test-data/Test/bulging_eye/bulging_eye-1.jpeg'\n",
    "predict_eye_disease(test_image_path)\n"
   ]
  },
  {
   "cell_type": "code",
   "execution_count": null,
   "metadata": {
    "execution": {
     "iopub.execute_input": "2024-11-20T15:30:12.667981Z",
     "iopub.status.busy": "2024-11-20T15:30:12.667173Z",
     "iopub.status.idle": "2024-11-20T15:30:12.739831Z",
     "shell.execute_reply": "2024-11-20T15:30:12.739027Z",
     "shell.execute_reply.started": "2024-11-20T15:30:12.667933Z"
    },
    "trusted": true
   },
   "outputs": [
    {
     "name": "stdout",
     "output_type": "stream",
     "text": [
      "\u001b[1m1/1\u001b[0m \u001b[32m━━━━━━━━━━━━━━━━━━━━\u001b[0m\u001b[37m\u001b[0m \u001b[1m0s\u001b[0m 20ms/step\n",
      "Predicted class: normal_eye\n"
     ]
    },
    {
     "data": {
      "text/plain": [
       "'normal_eye'"
      ]
     },
     "execution_count": 30,
     "metadata": {},
     "output_type": "execute_result"
    }
   ],
   "source": [
    "def predict_eye_disease(img_path):\n",
    "    img = image.load_img(img_path, target_size=(img_size, img_size))\n",
    "    img_array = image.img_to_array(img)\n",
    "    img_array = np.expand_dims(img_array, axis=0)\n",
    "    img_array /= 255.  \n",
    "    \n",
    "    prediction = model.predict(img_array)\n",
    "    predicted_class = np.argmax(prediction)\n",
    "    \n",
    "    class_labels = {v: k for k, v in train_generator.class_indices.items()}\n",
    "    print(f\"Predicted class: {class_labels[predicted_class]}\")\n",
    "    return class_labels[predicted_class]\n",
    "\n",
    "# Example prediction\n",
    "test_image_path = '/kaggle/input/eye-test-data/Test/cataract_eye/cataract-3.jpg'\n",
    "predict_eye_disease(test_image_path)\n"
   ]
  },
  {
   "cell_type": "code",
   "execution_count": null,
   "metadata": {
    "execution": {
     "iopub.execute_input": "2024-11-20T15:30:39.507891Z",
     "iopub.status.busy": "2024-11-20T15:30:39.507551Z",
     "iopub.status.idle": "2024-11-20T15:30:39.581081Z",
     "shell.execute_reply": "2024-11-20T15:30:39.580103Z",
     "shell.execute_reply.started": "2024-11-20T15:30:39.507861Z"
    },
    "trusted": true
   },
   "outputs": [
    {
     "name": "stdout",
     "output_type": "stream",
     "text": [
      "\u001b[1m1/1\u001b[0m \u001b[32m━━━━━━━━━━━━━━━━━━━━\u001b[0m\u001b[37m\u001b[0m \u001b[1m0s\u001b[0m 24ms/step\n",
      "Predicted class: diabetic_retinopathy_eye\n"
     ]
    },
    {
     "data": {
      "text/plain": [
       "'diabetic_retinopathy_eye'"
      ]
     },
     "execution_count": 31,
     "metadata": {},
     "output_type": "execute_result"
    }
   ],
   "source": [
    "def predict_eye_disease(img_path):\n",
    "    img = image.load_img(img_path, target_size=(img_size, img_size))\n",
    "    img_array = image.img_to_array(img)\n",
    "    img_array = np.expand_dims(img_array, axis=0)\n",
    "    img_array /= 255.  \n",
    "    \n",
    "    prediction = model.predict(img_array)\n",
    "    predicted_class = np.argmax(prediction)\n",
    "    \n",
    "    class_labels = {v: k for k, v in train_generator.class_indices.items()}\n",
    "    print(f\"Predicted class: {class_labels[predicted_class]}\")\n",
    "    return class_labels[predicted_class]\n",
    "\n",
    "# Example prediction\n",
    "test_image_path = '/kaggle/input/eye-test-data/Test/diabetic_retinopathy_eye/diabetic_retinopathy_eye-1.jpeg'\n",
    "predict_eye_disease(test_image_path)\n"
   ]
  },
  {
   "cell_type": "code",
   "execution_count": null,
   "metadata": {
    "execution": {
     "iopub.execute_input": "2024-11-20T15:31:03.887700Z",
     "iopub.status.busy": "2024-11-20T15:31:03.887345Z",
     "iopub.status.idle": "2024-11-20T15:31:03.967014Z",
     "shell.execute_reply": "2024-11-20T15:31:03.966266Z",
     "shell.execute_reply.started": "2024-11-20T15:31:03.887669Z"
    },
    "trusted": true
   },
   "outputs": [
    {
     "name": "stdout",
     "output_type": "stream",
     "text": [
      "\u001b[1m1/1\u001b[0m \u001b[32m━━━━━━━━━━━━━━━━━━━━\u001b[0m\u001b[37m\u001b[0m \u001b[1m0s\u001b[0m 19ms/step\n",
      "Predicted class: Pterygium\n"
     ]
    },
    {
     "data": {
      "text/plain": [
       "'Pterygium'"
      ]
     },
     "execution_count": 32,
     "metadata": {},
     "output_type": "execute_result"
    }
   ],
   "source": [
    "def predict_eye_disease(img_path):\n",
    "    img = image.load_img(img_path, target_size=(img_size, img_size))\n",
    "    img_array = image.img_to_array(img)\n",
    "    img_array = np.expand_dims(img_array, axis=0)\n",
    "    img_array /= 255.  \n",
    "    \n",
    "    prediction = model.predict(img_array)\n",
    "    predicted_class = np.argmax(prediction)\n",
    "    \n",
    "    class_labels = {v: k for k, v in train_generator.class_indices.items()}\n",
    "    print(f\"Predicted class: {class_labels[predicted_class]}\")\n",
    "    return class_labels[predicted_class]\n",
    "\n",
    "# Example prediction\n",
    "test_image_path = '/kaggle/input/eye-test-data/Test/Pterygium/Pterygium-1.jpg'\n",
    "predict_eye_disease(test_image_path)\n"
   ]
  },
  {
   "cell_type": "code",
   "execution_count": null,
   "metadata": {
    "execution": {
     "iopub.execute_input": "2024-11-20T15:31:32.062683Z",
     "iopub.status.busy": "2024-11-20T15:31:32.062345Z",
     "iopub.status.idle": "2024-11-20T15:31:32.135095Z",
     "shell.execute_reply": "2024-11-20T15:31:32.134249Z",
     "shell.execute_reply.started": "2024-11-20T15:31:32.062651Z"
    },
    "trusted": true
   },
   "outputs": [
    {
     "name": "stdout",
     "output_type": "stream",
     "text": [
      "\u001b[1m1/1\u001b[0m \u001b[32m━━━━━━━━━━━━━━━━━━━━\u001b[0m\u001b[37m\u001b[0m \u001b[1m0s\u001b[0m 20ms/step\n",
      "Predicted class: normal_eye\n"
     ]
    },
    {
     "data": {
      "text/plain": [
       "'normal_eye'"
      ]
     },
     "execution_count": 33,
     "metadata": {},
     "output_type": "execute_result"
    }
   ],
   "source": [
    "def predict_eye_disease(img_path):\n",
    "    img = image.load_img(img_path, target_size=(img_size, img_size))\n",
    "    img_array = image.img_to_array(img)\n",
    "    img_array = np.expand_dims(img_array, axis=0)\n",
    "    img_array /= 255.  \n",
    "    \n",
    "    prediction = model.predict(img_array)\n",
    "    predicted_class = np.argmax(prediction)\n",
    "    \n",
    "    class_labels = {v: k for k, v in train_generator.class_indices.items()}\n",
    "    print(f\"Predicted class: {class_labels[predicted_class]}\")\n",
    "    return class_labels[predicted_class]\n",
    "\n",
    "# Example prediction\n",
    "test_image_path = '/kaggle/input/eye-test-data/Test/normal_eye/normal_eye-1.jpg'\n",
    "predict_eye_disease(test_image_path)\n"
   ]
  },
  {
   "cell_type": "code",
   "execution_count": null,
   "metadata": {
    "execution": {
     "iopub.execute_input": "2024-11-20T15:31:55.307484Z",
     "iopub.status.busy": "2024-11-20T15:31:55.306756Z",
     "iopub.status.idle": "2024-11-20T15:31:55.387588Z",
     "shell.execute_reply": "2024-11-20T15:31:55.386730Z",
     "shell.execute_reply.started": "2024-11-20T15:31:55.307452Z"
    },
    "trusted": true
   },
   "outputs": [
    {
     "name": "stdout",
     "output_type": "stream",
     "text": [
      "\u001b[1m1/1\u001b[0m \u001b[32m━━━━━━━━━━━━━━━━━━━━\u001b[0m\u001b[37m\u001b[0m \u001b[1m0s\u001b[0m 19ms/step\n",
      "Predicted class: Macular_Scar\n"
     ]
    },
    {
     "data": {
      "text/plain": [
       "'Macular_Scar'"
      ]
     },
     "execution_count": 34,
     "metadata": {},
     "output_type": "execute_result"
    }
   ],
   "source": [
    "def predict_eye_disease(img_path):\n",
    "    img = image.load_img(img_path, target_size=(img_size, img_size))\n",
    "    img_array = image.img_to_array(img)\n",
    "    img_array = np.expand_dims(img_array, axis=0)\n",
    "    img_array /= 255.  \n",
    "    \n",
    "    prediction = model.predict(img_array)\n",
    "    predicted_class = np.argmax(prediction)\n",
    "    \n",
    "    class_labels = {v: k for k, v in train_generator.class_indices.items()}\n",
    "    print(f\"Predicted class: {class_labels[predicted_class]}\")\n",
    "    return class_labels[predicted_class]\n",
    "\n",
    "# Example prediction\n",
    "test_image_path = '/kaggle/input/eye-test-data/Test/Macular_Scar/Macular Scar-1.jpg'\n",
    "predict_eye_disease(test_image_path)\n"
   ]
  },
  {
   "cell_type": "code",
   "execution_count": null,
   "metadata": {
    "execution": {
     "iopub.execute_input": "2024-11-20T15:32:21.521190Z",
     "iopub.status.busy": "2024-11-20T15:32:21.520851Z",
     "iopub.status.idle": "2024-11-20T15:32:21.587385Z",
     "shell.execute_reply": "2024-11-20T15:32:21.586570Z",
     "shell.execute_reply.started": "2024-11-20T15:32:21.521160Z"
    },
    "trusted": true
   },
   "outputs": [
    {
     "name": "stdout",
     "output_type": "stream",
     "text": [
      "\u001b[1m1/1\u001b[0m \u001b[32m━━━━━━━━━━━━━━━━━━━━\u001b[0m\u001b[37m\u001b[0m \u001b[1m0s\u001b[0m 19ms/step\n",
      "Predicted class: Uveitis\n"
     ]
    },
    {
     "data": {
      "text/plain": [
       "'Uveitis'"
      ]
     },
     "execution_count": 35,
     "metadata": {},
     "output_type": "execute_result"
    }
   ],
   "source": [
    "def predict_eye_disease(img_path):\n",
    "    img = image.load_img(img_path, target_size=(img_size, img_size))\n",
    "    img_array = image.img_to_array(img)\n",
    "    img_array = np.expand_dims(img_array, axis=0)\n",
    "    img_array /= 255.  \n",
    "    \n",
    "    prediction = model.predict(img_array)\n",
    "    predicted_class = np.argmax(prediction)\n",
    "    \n",
    "    class_labels = {v: k for k, v in train_generator.class_indices.items()}\n",
    "    print(f\"Predicted class: {class_labels[predicted_class]}\")\n",
    "    return class_labels[predicted_class]\n",
    "\n",
    "# Example prediction\n",
    "test_image_path = '/kaggle/input/eye-test-data/Test/Uveitis/Uveitis-1.jpeg'\n",
    "predict_eye_disease(test_image_path)\n"
   ]
  },
  {
   "cell_type": "code",
   "execution_count": null,
   "metadata": {
    "execution": {
     "iopub.execute_input": "2024-11-20T15:32:49.285676Z",
     "iopub.status.busy": "2024-11-20T15:32:49.285030Z",
     "iopub.status.idle": "2024-11-20T15:32:49.368086Z",
     "shell.execute_reply": "2024-11-20T15:32:49.367324Z",
     "shell.execute_reply.started": "2024-11-20T15:32:49.285641Z"
    },
    "trusted": true
   },
   "outputs": [
    {
     "name": "stdout",
     "output_type": "stream",
     "text": [
      "\u001b[1m1/1\u001b[0m \u001b[32m━━━━━━━━━━━━━━━━━━━━\u001b[0m\u001b[37m\u001b[0m \u001b[1m0s\u001b[0m 20ms/step\n",
      "Predicted class: Central_Serous_Chorioretinopathy\n"
     ]
    },
    {
     "data": {
      "text/plain": [
       "'Central_Serous_Chorioretinopathy'"
      ]
     },
     "execution_count": 36,
     "metadata": {},
     "output_type": "execute_result"
    }
   ],
   "source": [
    "def predict_eye_disease(img_path):\n",
    "    img = image.load_img(img_path, target_size=(img_size, img_size))\n",
    "    img_array = image.img_to_array(img)\n",
    "    img_array = np.expand_dims(img_array, axis=0)\n",
    "    img_array /= 255.  \n",
    "    \n",
    "    prediction = model.predict(img_array)\n",
    "    predicted_class = np.argmax(prediction)\n",
    "    \n",
    "    class_labels = {v: k for k, v in train_generator.class_indices.items()}\n",
    "    print(f\"Predicted class: {class_labels[predicted_class]}\")\n",
    "    return class_labels[predicted_class]\n",
    "\n",
    "# Example prediction\n",
    "test_image_path = '/kaggle/input/eye-test-data/Test/Central_Serous_Chorioretinopathy/CSCR-1.jpg'\n",
    "predict_eye_disease(test_image_path)\n"
   ]
  },
  {
   "cell_type": "code",
   "execution_count": null,
   "metadata": {
    "execution": {
     "iopub.execute_input": "2024-11-20T15:33:18.779944Z",
     "iopub.status.busy": "2024-11-20T15:33:18.779150Z",
     "iopub.status.idle": "2024-11-20T15:33:18.861945Z",
     "shell.execute_reply": "2024-11-20T15:33:18.861120Z",
     "shell.execute_reply.started": "2024-11-20T15:33:18.779908Z"
    },
    "trusted": true
   },
   "outputs": [
    {
     "name": "stdout",
     "output_type": "stream",
     "text": [
      "\u001b[1m1/1\u001b[0m \u001b[32m━━━━━━━━━━━━━━━━━━━━\u001b[0m\u001b[37m\u001b[0m \u001b[1m0s\u001b[0m 20ms/step\n",
      "Predicted class: Disc_Edema\n"
     ]
    },
    {
     "data": {
      "text/plain": [
       "'Disc_Edema'"
      ]
     },
     "execution_count": 37,
     "metadata": {},
     "output_type": "execute_result"
    }
   ],
   "source": [
    "def predict_eye_disease(img_path):\n",
    "    img = image.load_img(img_path, target_size=(img_size, img_size))\n",
    "    img_array = image.img_to_array(img)\n",
    "    img_array = np.expand_dims(img_array, axis=0)\n",
    "    img_array /= 255.  \n",
    "    \n",
    "    prediction = model.predict(img_array)\n",
    "    predicted_class = np.argmax(prediction)\n",
    "    \n",
    "    class_labels = {v: k for k, v in train_generator.class_indices.items()}\n",
    "    print(f\"Predicted class: {class_labels[predicted_class]}\")\n",
    "    return class_labels[predicted_class]\n",
    "\n",
    "# Example prediction\n",
    "test_image_path = '/kaggle/input/eye-test-data/Test/Disc_Edema/Disc Edema-1.jpg'\n",
    "predict_eye_disease(test_image_path)\n"
   ]
  },
  {
   "cell_type": "code",
   "execution_count": null,
   "metadata": {
    "execution": {
     "iopub.execute_input": "2024-11-20T15:33:49.280043Z",
     "iopub.status.busy": "2024-11-20T15:33:49.279737Z",
     "iopub.status.idle": "2024-11-20T15:33:49.356774Z",
     "shell.execute_reply": "2024-11-20T15:33:49.356023Z",
     "shell.execute_reply.started": "2024-11-20T15:33:49.280017Z"
    },
    "trusted": true
   },
   "outputs": [
    {
     "name": "stdout",
     "output_type": "stream",
     "text": [
      "\u001b[1m1/1\u001b[0m \u001b[32m━━━━━━━━━━━━━━━━━━━━\u001b[0m\u001b[37m\u001b[0m \u001b[1m0s\u001b[0m 20ms/step\n",
      "Predicted class: Myopia\n"
     ]
    },
    {
     "data": {
      "text/plain": [
       "'Myopia'"
      ]
     },
     "execution_count": 38,
     "metadata": {},
     "output_type": "execute_result"
    }
   ],
   "source": [
    "def predict_eye_disease(img_path):\n",
    "    img = image.load_img(img_path, target_size=(img_size, img_size))\n",
    "    img_array = image.img_to_array(img)\n",
    "    img_array = np.expand_dims(img_array, axis=0)\n",
    "    img_array /= 255.  \n",
    "    \n",
    "    prediction = model.predict(img_array)\n",
    "    predicted_class = np.argmax(prediction)\n",
    "    \n",
    "    class_labels = {v: k for k, v in train_generator.class_indices.items()}\n",
    "    print(f\"Predicted class: {class_labels[predicted_class]}\")\n",
    "    return class_labels[predicted_class]\n",
    "\n",
    "# Example prediction\n",
    "test_image_path = '/kaggle/input/eye-test-data/Test/Myopia/Myopia-1.jpg'\n",
    "predict_eye_disease(test_image_path)\n"
   ]
  },
  {
   "cell_type": "code",
   "execution_count": null,
   "metadata": {
    "execution": {
     "iopub.execute_input": "2024-11-20T15:34:38.757670Z",
     "iopub.status.busy": "2024-11-20T15:34:38.756992Z",
     "iopub.status.idle": "2024-11-20T15:34:38.837742Z",
     "shell.execute_reply": "2024-11-20T15:34:38.836920Z",
     "shell.execute_reply.started": "2024-11-20T15:34:38.757636Z"
    },
    "trusted": true
   },
   "outputs": [
    {
     "name": "stdout",
     "output_type": "stream",
     "text": [
      "\u001b[1m1/1\u001b[0m \u001b[32m━━━━━━━━━━━━━━━━━━━━\u001b[0m\u001b[37m\u001b[0m \u001b[1m0s\u001b[0m 20ms/step\n",
      "Predicted class: Retinal_Detachment\n"
     ]
    },
    {
     "data": {
      "text/plain": [
       "'Retinal_Detachment'"
      ]
     },
     "execution_count": 39,
     "metadata": {},
     "output_type": "execute_result"
    }
   ],
   "source": [
    "def predict_eye_disease(img_path):\n",
    "    img = image.load_img(img_path, target_size=(img_size, img_size))\n",
    "    img_array = image.img_to_array(img)\n",
    "    img_array = np.expand_dims(img_array, axis=0)\n",
    "    img_array /= 255.  \n",
    "    \n",
    "    prediction = model.predict(img_array)\n",
    "    predicted_class = np.argmax(prediction)\n",
    "    \n",
    "    class_labels = {v: k for k, v in train_generator.class_indices.items()}\n",
    "    print(f\"Predicted class: {class_labels[predicted_class]}\")\n",
    "    return class_labels[predicted_class]\n",
    "\n",
    "# Example prediction\n",
    "test_image_path = '/kaggle/input/eye-test-data/Test/Retinal_Detachment/Retinal Detachment-1.jpg'\n",
    "predict_eye_disease(test_image_path)\n"
   ]
  },
  {
   "cell_type": "code",
   "execution_count": null,
   "metadata": {
    "execution": {
     "iopub.execute_input": "2024-11-20T15:35:15.463693Z",
     "iopub.status.busy": "2024-11-20T15:35:15.463301Z",
     "iopub.status.idle": "2024-11-20T15:35:15.544058Z",
     "shell.execute_reply": "2024-11-20T15:35:15.543176Z",
     "shell.execute_reply.started": "2024-11-20T15:35:15.463662Z"
    },
    "trusted": true
   },
   "outputs": [
    {
     "name": "stdout",
     "output_type": "stream",
     "text": [
      "\u001b[1m1/1\u001b[0m \u001b[32m━━━━━━━━━━━━━━━━━━━━\u001b[0m\u001b[37m\u001b[0m \u001b[1m0s\u001b[0m 19ms/step\n",
      "Predicted class: Retinitis_Pigmentosa\n"
     ]
    },
    {
     "data": {
      "text/plain": [
       "'Retinitis_Pigmentosa'"
      ]
     },
     "execution_count": 40,
     "metadata": {},
     "output_type": "execute_result"
    }
   ],
   "source": [
    "def predict_eye_disease(img_path):\n",
    "    img = image.load_img(img_path, target_size=(img_size, img_size))\n",
    "    img_array = image.img_to_array(img)\n",
    "    img_array = np.expand_dims(img_array, axis=0)\n",
    "    img_array /= 255.  \n",
    "    \n",
    "    prediction = model.predict(img_array)\n",
    "    predicted_class = np.argmax(prediction)\n",
    "    \n",
    "    class_labels = {v: k for k, v in train_generator.class_indices.items()}\n",
    "    print(f\"Predicted class: {class_labels[predicted_class]}\")\n",
    "    return class_labels[predicted_class]\n",
    "\n",
    "# Example prediction\n",
    "test_image_path = '/kaggle/input/eye-test-data/Test/Retinitis_Pigmentosa/Retinitis Pigmentosa-1.jpg'\n",
    "predict_eye_disease(test_image_path)\n"
   ]
  },
  {
   "cell_type": "code",
   "execution_count": null,
   "metadata": {
    "execution": {
     "iopub.execute_input": "2024-11-20T15:36:38.000409Z",
     "iopub.status.busy": "2024-11-20T15:36:37.999585Z",
     "iopub.status.idle": "2024-11-20T15:36:38.077225Z",
     "shell.execute_reply": "2024-11-20T15:36:38.076402Z",
     "shell.execute_reply.started": "2024-11-20T15:36:38.000361Z"
    },
    "trusted": true
   },
   "outputs": [
    {
     "name": "stdout",
     "output_type": "stream",
     "text": [
      "\u001b[1m1/1\u001b[0m \u001b[32m━━━━━━━━━━━━━━━━━━━━\u001b[0m\u001b[37m\u001b[0m \u001b[1m0s\u001b[0m 21ms/step\n",
      "Predicted class: glaucoma_eye\n"
     ]
    },
    {
     "data": {
      "text/plain": [
       "'glaucoma_eye'"
      ]
     },
     "execution_count": 41,
     "metadata": {},
     "output_type": "execute_result"
    }
   ],
   "source": [
    "def predict_eye_disease(img_path):\n",
    "    img = image.load_img(img_path, target_size=(img_size, img_size))\n",
    "    img_array = image.img_to_array(img)\n",
    "    img_array = np.expand_dims(img_array, axis=0)\n",
    "    img_array /= 255.  \n",
    "    \n",
    "    prediction = model.predict(img_array)\n",
    "    predicted_class = np.argmax(prediction)\n",
    "    \n",
    "    class_labels = {v: k for k, v in train_generator.class_indices.items()}\n",
    "    print(f\"Predicted class: {class_labels[predicted_class]}\")\n",
    "    return class_labels[predicted_class]\n",
    "\n",
    "# Example prediction\n",
    "test_image_path = '/kaggle/input/eye-test-data/Test/glaucoma_eye/glaucoma_eye-1.jpg'\n",
    "predict_eye_disease(test_image_path)\n"
   ]
  },
  {
   "cell_type": "code",
   "execution_count": 64,
   "metadata": {
    "execution": {
     "iopub.execute_input": "2024-11-20T16:46:46.830420Z",
     "iopub.status.busy": "2024-11-20T16:46:46.829499Z",
     "iopub.status.idle": "2024-11-20T16:46:47.249925Z",
     "shell.execute_reply": "2024-11-20T16:46:47.249065Z",
     "shell.execute_reply.started": "2024-11-20T16:46:46.830370Z"
    },
    "trusted": true
   },
   "outputs": [
    {
     "data": {
      "image/png": "[encoded data removed]",
      "text/plain": [
       "<Figure size 640x480 with 1 Axes>"
      ]
     },
     "metadata": {},
     "output_type": "display_data"
    },
    {
     "data": {
      "image/png": "[encoded data removed]",
      "text/plain": [
       "<Figure size 640x480 with 1 Axes>"
      ]
     },
     "metadata": {},
     "output_type": "display_data"
    }
   ],
   "source": [
    "# Plot training & validation accuracy values\n",
    "plt.plot(history.history['accuracy'])\n",
    "plt.plot(history.history['val_accuracy'])\n",
    "plt.title('Model accuracy')\n",
    "plt.ylabel('Accuracy')\n",
    "plt.xlabel('Epoch')\n",
    "plt.legend(['Train', 'Validation'], loc='upper left')\n",
    "plt.show()\n",
    "\n",
    "# Plot training & validation loss values\n",
    "plt.plot(history.history['loss'])\n",
    "plt.plot(history.history['val_loss'])\n",
    "plt.title('Model loss')\n",
    "plt.ylabel('Loss')\n",
    "plt.xlabel('Epoch')\n",
    "plt.legend(['Train', 'Validation'], loc='upper left')\n",
    "plt.show()\n"
   ]
  }
 ],
 "metadata": {
  "kaggle": {
   "accelerator": "gpu",
   "dataSources": [
    {
     "datasetId": 6051935,
     "sourceId": 9860879,
     "sourceType": "datasetVersion"
    },
    {
     "datasetId": 6128201,
     "sourceId": 9962604,
     "sourceType": "datasetVersion"
    },
    {
     "datasetId": 6128035,
     "sourceId": 9962537,
     "sourceType": "datasetVersion"
    },
    {
     "datasetId": 6129292,
     "sourceId": 9964075,
     "sourceType": "datasetVersion"
    },
    {
     "datasetId": 6129505,
     "sourceId": 9964368,
     "sourceType": "datasetVersion"
    }
   ],
   "dockerImageVersionId": 30787,
   "isGpuEnabled": true,
   "isInternetEnabled": true,
   "language": "python",
   "sourceType": "notebook"
  },
  "kernelspec": {
   "display_name": "Python 3",
   "language": "python",
   "name": "python3"
  },
  "language_info": {
   "codemirror_mode": {
    "name": "ipython",
    "version": 3
   },
   "file_extension": ".py",
   "mimetype": "text/x-python",
   "name": "python",
   "nbconvert_exporter": "python",
   "pygments_lexer": "ipython3",
   "version": "3.10.14"
  }
 },
 "nbformat": 4,
 "nbformat_minor": 4
}
